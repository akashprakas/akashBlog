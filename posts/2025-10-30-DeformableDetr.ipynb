{
 "cells": [
  {
   "cell_type": "code",
   "execution_count": 2,
   "id": "86a36c34",
   "metadata": {},
   "outputs": [],
   "source": [
    "import torch \n",
    "import torch.nn as nn"
   ]
  },
  {
   "cell_type": "markdown",
   "id": "4a8e3218",
   "metadata": {},
   "source": [
    "## Prerequisites\n",
    "1. I assume the reader have good understanding of [DETR](https://arxiv.org/abs/2005.12872)"
   ]
  },
  {
   "cell_type": "markdown",
   "id": "6fb71c2f",
   "metadata": {},
   "source": [
    "Deformable detr is  an improvement to DETR which was one of the first attempts in using transformers for the task of object detection. The main problems with DETR where\n",
    "### 1. Not able to detect small objects properly. \n",
    "    Usually all the new object detection networks use some kind of Feature Pyramind to detect the object across differenet scales. In DETR we cannot use that because the self attention if across the entire feature map and this could lead to a computational explotion .Deformable Detr tends to solve this problem by attending to features from feature maps of different levels.\n",
    "###  2. Too much training time.\n",
    "    This is because the network needs to learn the actually features to attend to from the full feature map and this will take a good time to converge to. Deformable detr solves introducing a Deformable Attention module , that doesnt look into all the keys , but only a subset of them. \n"
   ]
  },
  {
   "cell_type": "code",
   "execution_count": 3,
   "id": "fbe6b1b4",
   "metadata": {},
   "outputs": [
    {
     "name": "stdout",
     "output_type": "stream",
     "text": [
      "Reduced feature map 1 shape: torch.Size([4, 256, 134, 134])\n",
      "Reduced feature map 2 shape: torch.Size([4, 256, 67, 67])\n",
      "Reduced feature map 3 shape: torch.Size([4, 256, 34, 34])\n",
      "Reduced feature map 4 shape: torch.Size([4, 256, 17, 17])\n"
     ]
    }
   ],
   "source": [
    "pixel_values = torch.randn(4,3,1065,1066) \n",
    "\n",
    "# 1 .Initially we need to pass the images through the FPN and get features across different layers,\n",
    "# 2. Also we need to get positional embedding for each of the feature map, the positional embedding is similar to the normal sine-cosine positional embedding in the original paper,\n",
    "#  the only difference here is that since we have HxW in the feature domain , suppose if our embedding dim is 256, we will have them alingned in such a way that the first 128 corresponds to vertical and the next 128 corresponds\n",
    "# to vertical so that in the end we end up with 256 and that encodes both vertical and horizontal positions. https://github.com/fundamentalvision/Deformable-DETR/blob/11169a60c33333af00a4849f1808023eba96a931/models/position_encoding.py#L55\n",
    "# 3. Suppose we get feature map from 4 layers and let them be (4,512,134,134) ,(4,1024,67,67) , (4,2048,34,34) ,(4,2048,17,17) [Note the actual feature map in the paper is created by an additional conv+group norm] and there positional embeddings w\n",
    "# will have the same size as well. but with the corresponding embedding dim, so they will be of size (4,256,134,134) ,(4,256,67,67) ,(4,256,34,34) ,(4,256,17,17)\n",
    "\n",
    "\n",
    "feature_shapes = [\n",
    "    (4, 512, 134, 134),\n",
    "    (4, 1024, 67, 67),\n",
    "    (4, 2048, 34, 34),\n",
    "    (4, 2048, 17, 17)\n",
    "]\n",
    "\n",
    "# Positional embedding shapes (same spatial dims, but channel dim = 256)\n",
    "embedding_shapes = [\n",
    "    (4, 256, 134, 134),\n",
    "    (4, 256, 67, 67),\n",
    "    (4, 256, 34, 34),\n",
    "    (4, 256, 17, 17)\n",
    "]\n",
    "\n",
    "# original implementation here https://github.com/fundamentalvision/Deformable-DETR/blob/11169a60c33333af00a4849f1808023eba96a931/models/backbone.py#L71\n",
    "feature_maps = [torch.randn(shape) for shape in feature_shapes]\n",
    "\n",
    "# original implemenation here https://github.com/fundamentalvision/Deformable-DETR/blob/11169a60c33333af00a4849f1808023eba96a931/models/position_encoding.py#L55\n",
    "positional_embeddings = [torch.randn(shape) for shape in embedding_shapes]\n",
    "\n",
    "# 4 . Now we have to have a 1x1 conv layer to reduce the channel dimension of the feature so that they match the embedding dimension of 256\n",
    "conv_layers = nn.ModuleList([\n",
    "    nn.Conv2d(in_channels=512, out_channels=256, kernel_size=1),\n",
    "    nn.Conv2d(in_channels=1024, out_channels=256, kernel_size=1),\n",
    "    nn.Conv2d(in_channels=2048, out_channels=256, kernel_size=1),\n",
    "    nn.Conv2d(in_channels=2048, out_channels=256, kernel_size=1)\n",
    "])\n",
    "\n",
    "# Apply the 1x1 conv layers\n",
    "reduced_feature_maps = [conv(feature) for conv, feature in zip(conv_layers, feature_maps)]\n",
    "\n",
    "for i, (fmap,pos_emb) in enumerate(zip(reduced_feature_maps,positional_embeddings)):\n",
    "    print(f\"Reduced feature map {i+1} shape:\", fmap.shape)"
   ]
  },
  {
   "cell_type": "code",
   "execution_count": 4,
   "id": "f8f37015",
   "metadata": {},
   "outputs": [
    {
     "name": "stdout",
     "output_type": "stream",
     "text": [
      "Level 1:\n",
      "  Feature shape: torch.Size([4, 17956, 256])\n",
      "  Positional + Level Embedding shape: torch.Size([4, 17956, 256])\n",
      "Level 2:\n",
      "  Feature shape: torch.Size([4, 4489, 256])\n",
      "  Positional + Level Embedding shape: torch.Size([4, 4489, 256])\n",
      "Level 3:\n",
      "  Feature shape: torch.Size([4, 1156, 256])\n",
      "  Positional + Level Embedding shape: torch.Size([4, 1156, 256])\n",
      "Level 4:\n",
      "  Feature shape: torch.Size([4, 289, 256])\n",
      "  Positional + Level Embedding shape: torch.Size([4, 289, 256])\n"
     ]
    }
   ],
   "source": [
    "# 5 . Also we need a learnable Level embedding for each levels , since here we are using 4 layers, and 256 embedding dim , the size of the level embedding will be (4,256)\n",
    "# Learnable level embedding (in actual model this would be nn.Parameter)\n",
    "level_embedding = torch.randn((4, 256))  # shape: (num_levels, embedding_dim)\n",
    "\n",
    "\n",
    "#6. Now we need to flatten and transpose the features and positional embedding so they become the similar shape like token_len X embedding_dim , for example the first feature map will become (4,134*134,256) ,similarly we have do this \n",
    "# for all the feature maps and the positional embedding. and one additional thing to do is to add the level embedding to the positional embedding.\n",
    "\n",
    "features_flatten = []\n",
    "positional_and_level_embedding_flattened = []\n",
    "\n",
    "for level, (feature, pos_emb) in enumerate(zip(reduced_feature_maps, positional_embeddings)):\n",
    "    # Flatten and transpose: (B, C, H, W) -> (B, HW, C)\n",
    "    feature_flatten = feature.flatten(2).transpose(1, 2)\n",
    "    positional_plus_level_embed = pos_emb.flatten(2).transpose(1, 2) + level_embedding[level].view(1, 1, -1)\n",
    "\n",
    "    features_flatten.append(feature_flatten)\n",
    "    positional_and_level_embedding_flattened.append(positional_plus_level_embed)\n",
    "\n",
    "    # Print shapes\n",
    "    print(f\"Level {level + 1}:\")\n",
    "    print(f\"  Feature shape: {feature_flatten.shape}\")\n",
    "    print(f\"  Positional + Level Embedding shape: {positional_plus_level_embed.shape}\")\n",
    "\n",
    "    "
   ]
  },
  {
   "cell_type": "code",
   "execution_count": 5,
   "id": "da3098e3",
   "metadata": {},
   "outputs": [
    {
     "name": "stdout",
     "output_type": "stream",
     "text": [
      "Concatenated Inputs Embeds shape: torch.Size([4, 23890, 256])\n",
      "Concatenated Position Embeddings shape: torch.Size([4, 23890, 256])\n"
     ]
    }
   ],
   "source": [
    "# Step 7: Concatenate along sequence dimension (dim=1)\n",
    "inputs_embeds = torch.cat(features_flatten, dim=1)  # shape: (B, total_seq_len, 256)\n",
    "position_embeddings = torch.cat(positional_and_level_embedding_flattened, dim=1)  # shape: (B, total_seq_len, 256)\n",
    "\n",
    "print(\"Concatenated Inputs Embeds shape:\", inputs_embeds.shape)\n",
    "print(\"Concatenated Position Embeddings shape:\", position_embeddings.shape)"
   ]
  },
  {
   "cell_type": "code",
   "execution_count": 6,
   "id": "2cf651a8",
   "metadata": {},
   "outputs": [
    {
     "name": "stdout",
     "output_type": "stream",
     "text": [
      "Reference points shape input to encoder  torch.Size([4, 23890, 4, 2])\n"
     ]
    }
   ],
   "source": [
    "# 8. we need to apply a initial dropout before passing it to the encoder \n",
    "inputs_embeds = nn.functional.dropout(inputs_embeds, p=0.1)\n",
    "batch_size = inputs_embeds.shape[0]\n",
    "#9. Generating the reference points, so this is a concept that is similar to the deformable convolution , so basically for each feature_point/query in the feature map we need to look into the corresponding point in the other feature\n",
    "# map as well, feature maps a re normilized  based on their height and width, so we can look for the corresponding point for each query in different points as well, here\n",
    "#original implemenation https://github.com/fundamentalvision/Deformable-DETR/blob/11169a60c33333af00a4849f1808023eba96a931/models/deformable_transformer.py#L238 \n",
    "spatial_shapes_list = [(134, 134), (67, 67), (34, 34), (17, 17)]\n",
    "\n",
    "reference_points_list = []\n",
    "for H_, W_ in spatial_shapes_list:\n",
    "        # Create meshgrid of normalized coordinates\n",
    "        ref_y, ref_x = torch.meshgrid(\n",
    "            torch.linspace(0.5, H_ - 0.5, H_, dtype=torch.float32),\n",
    "            torch.linspace(0.5, W_ - 0.5, W_, dtype=torch.float32),\n",
    "            indexing='ij'  # Important for correct axis ordering\n",
    "        )\n",
    "        # Normalize\n",
    "        ref_y = ref_y.reshape(-1) / H_\n",
    "        ref_x = ref_x.reshape(-1) / W_\n",
    "\n",
    "        # Stack and expand to batch size\n",
    "        ref = torch.stack((ref_x, ref_y), dim=-1)  # shape: (H_*W_, 2)\n",
    "        ref = ref[None].expand(batch_size, -1, -1)  # shape: (B, H_*W_, 2)\n",
    "        reference_points_list.append(ref)\n",
    "\n",
    "\n",
    "# Concatenate all levels\n",
    "reference_points = torch.cat(reference_points_list, dim=1)  # shape: (B, total_seq_len, 2)\n",
    "# Expand to include level dimension\n",
    "reference_points = reference_points[:, :, None, :]  # shape: (B, total_seq_len, 1, 2)\n",
    "\n",
    "# Repeat across levels\n",
    "num_levels = len(spatial_shapes_list)\n",
    "reference_points = reference_points.expand(-1, -1, num_levels, -1)  # shape: (B, total_seq_len, L, 2)\n",
    "print(\"Reference points shape input to encoder \",reference_points.shape)\n",
    "\n"
   ]
  },
  {
   "cell_type": "code",
   "execution_count": 7,
   "id": "937677b6",
   "metadata": {},
   "outputs": [
    {
     "name": "stdout",
     "output_type": "stream",
     "text": [
      "Value shape = torch.Size([4, 23890, 8, 32])\n",
      "Sampling offset shape = torch.Size([4, 23890, 8, 4, 4, 2])\n",
      "Attention weights shape = torch.Size([4, 23890, 8, 4, 4]) \n",
      "\n",
      "Reference points with unsqueezed dimension for head and levels = torch.Size([4, 23890, 1, 4, 1, 2])\n",
      "Final sampling locations = torch.Size([4, 23890, 8, 4, 4, 2])\n"
     ]
    }
   ],
   "source": [
    "#so for now each query we have 4 positions (x,y) across 4 different channels, now this will be passed to the encoder.\n",
    "## DEFORMABLE MULTI SCALE ATTENTION.\n",
    "\n",
    "# params\n",
    "num_heads = 8\n",
    "num_levels  = 4\n",
    "n_points  = 4\n",
    "embdedding_dim = inputs_embeds.shape[-1]\n",
    "batch_size, num_queries, _ = inputs_embeds.shape\n",
    "\n",
    "# learnable parameters in the layer\n",
    "sampling_offsets_layer = nn.Linear(embdedding_dim, num_heads * num_levels * n_points *2)\n",
    "attention_weights_layer = nn.Linear(embdedding_dim,num_heads * num_levels * n_points)\n",
    "value_projection_layer  = nn.Linear(embdedding_dim,embdedding_dim)\n",
    "output_projection_layer = nn.Linear(embdedding_dim,embdedding_dim)\n",
    "\n",
    "#initially we add the poistional_embedding to the input_embeds\n",
    "hidden_states = inputs_embeds + position_embeddings\n",
    "value = value_projection_layer(inputs_embeds)\n",
    "value = value.view(batch_size,num_queries, num_heads,embdedding_dim//num_heads)\n",
    "print(f\"Value shape = {value.shape}\")\n",
    "\n",
    "# note for the below sampling offset and attention weights we are using the hidden state which have positional embedding information in it.\n",
    "sampling_offsets = sampling_offsets_layer(hidden_states)\n",
    "sampling_offsets = sampling_offsets.view(batch_size,num_queries,num_heads,num_levels,n_points,2) # NOTE : We actually need to normalize this wrt to spatial size of each feature, but omitting here for simplicity\n",
    "attention_weights = attention_weights_layer(hidden_states)\n",
    "attention_weights = attention_weights.view(batch_size,num_queries,num_heads,num_levels*n_points)\n",
    "attention_weights = torch.nn.functional.softmax(attention_weights, -1).view(batch_size,num_queries,num_heads,num_levels,n_points) # note here the softmax is along a row of size 16 ,intuitively this means there 4 points from 4 feature levels\n",
    "print(f\"Sampling offset shape = {sampling_offsets.shape}\")\n",
    "print(f\"Attention weights shape = {attention_weights.shape} \\n\")\n",
    "\n",
    "# Now we have to modify the refrence points with these sampling points, what this means is that for each of the reference points , we need to look into 4 more points across 8 different heads\n",
    "# so initially we had for each query 1 points account each feature dimension making it total 4 and now when we add this sampling offsets it makes 4 more across 8 differenet heads\n",
    "reference_points = reference_points[:,:,None,:,None,:]\n",
    "print(f\"Reference points with unsqueezed dimension for head and levels = {reference_points.shape}\")\n",
    "sampling_location = reference_points + sampling_offsets\n",
    "print(f\"Final sampling locations = {sampling_location.shape}\")\n"
   ]
  },
  {
   "cell_type": "code",
   "execution_count": 8,
   "id": "9ad47a6c",
   "metadata": {},
   "outputs": [],
   "source": [
    "batch_size, _, num_heads, hidden_dim = value.shape"
   ]
  },
  {
   "cell_type": "code",
   "execution_count": 9,
   "id": "f78ea1fd",
   "metadata": {},
   "outputs": [
    {
     "data": {
      "text/plain": [
       "32"
      ]
     },
     "execution_count": 9,
     "metadata": {},
     "output_type": "execute_result"
    }
   ],
   "source": [
    "hidden_dim"
   ]
  },
  {
   "cell_type": "code",
   "execution_count": 10,
   "id": "960fe384",
   "metadata": {},
   "outputs": [
    {
     "name": "stdout",
     "output_type": "stream",
     "text": [
      "Splitted feature at level 0 --> torch.Size([4, 17956, 8, 32])\n",
      "Splitted feature at level 1 --> torch.Size([4, 4489, 8, 32])\n",
      "Splitted feature at level 2 --> torch.Size([4, 1156, 8, 32])\n",
      "Splitted feature at level 3 --> torch.Size([4, 289, 8, 32])\n",
      "\n",
      "Sampling grid shape  = torch.Size([4, 23890, 8, 4, 4, 2]) \n",
      "\n",
      "Value at level 0 torch.Size([32, 32, 134, 134])\n",
      "Value at level 1 torch.Size([32, 32, 67, 67])\n",
      "Value at level 2 torch.Size([32, 32, 34, 34])\n",
      "Value at level 3 torch.Size([32, 32, 17, 17])\n"
     ]
    }
   ],
   "source": [
    "\n",
    "# Split the value tensor into per-level chunks based on spatial shapes\n",
    "value_list = value.split([h * w for h, w in spatial_shapes_list], dim=1)\n",
    "batch_size, _, num_heads, hidden_dim = value.shape\n",
    "\n",
    "# Print the shape of each level's value tensor\n",
    "for level, feature in enumerate(value_list):\n",
    "    print(f\"Splitted feature at level {level} --> {feature.shape}\")\n",
    "\n",
    "# Convert normalized sampling locations from [0, 1] to [-1, 1] for grid_sample\n",
    "sampling_grids = 2 * sampling_location - 1\n",
    "print(f\"\\nSampling grid shape  = {sampling_grids.shape} \\n\")\n",
    "\n",
    "sampling_value_list = []\n",
    "\n",
    "for level_id, (height, width) in enumerate(spatial_shapes_list):\n",
    "    # Reshape value tensor for grid sampling:\n",
    "    # (B, H*W, num_heads, C) → (B, num_heads, H*W, C) → (B*num_heads, C, H, W)\n",
    "    value_l = (\n",
    "        value_list[level_id]\n",
    "        .flatten(2)               # (B, H*W, num_heads * C)\n",
    "        .transpose(1, 2)          # (B, num_heads * C, H*W)\n",
    "        .reshape(batch_size * num_heads, hidden_dim, height, width)\n",
    "    )\n",
    "    print(f\"Value at level {level_id} {value_l.shape}\")\n",
    "\n",
    "    # Reshape sampling grid:\n",
    "    # (B, num_queries, num_heads, num_levels, num_points, 2)\n",
    "    # → (B, num_heads, num_queries, num_points, 2)\n",
    "    # → (B*num_heads, num_queries, num_points, 2)\n",
    "    sampling_grid_l = sampling_grids[:, :, :, level_id].transpose(1, 2).flatten(0, 1)\n",
    "\n",
    "    # Sample values using bilinear interpolation\n",
    "    sampling_value_l = nn.functional.grid_sample(\n",
    "        value_l,\n",
    "        sampling_grid_l,\n",
    "        mode=\"bilinear\",\n",
    "        padding_mode=\"zeros\",\n",
    "        align_corners=False,\n",
    "    )\n",
    "\n",
    "    sampling_value_list.append(sampling_value_l)\n",
    "\n"
   ]
  },
  {
   "cell_type": "code",
   "execution_count": 11,
   "id": "787449fd",
   "metadata": {},
   "outputs": [
    {
     "name": "stdout",
     "output_type": "stream",
     "text": [
      "torch.Size([32, 32, 23890, 4])\n",
      "torch.Size([32, 32, 23890, 4])\n",
      "torch.Size([32, 32, 23890, 4])\n",
      "torch.Size([32, 32, 23890, 4])\n"
     ]
    }
   ],
   "source": [
    "for f in sampling_value_list:\n",
    "    print(f.shape)"
   ]
  },
  {
   "cell_type": "code",
   "execution_count": 12,
   "id": "85ee95ae",
   "metadata": {},
   "outputs": [
    {
     "data": {
      "text/plain": [
       "tensor(4.8219, grad_fn=<MaxBackward1>)"
      ]
     },
     "execution_count": 12,
     "metadata": {},
     "output_type": "execute_result"
    }
   ],
   "source": [
    "sampling_offsets.max()"
   ]
  },
  {
   "cell_type": "code",
   "execution_count": 13,
   "id": "a55ae744",
   "metadata": {},
   "outputs": [
    {
     "data": {
      "text/plain": [
       "torch.Size([32, 1, 23890, 16])"
      ]
     },
     "execution_count": 13,
     "metadata": {},
     "output_type": "execute_result"
    }
   ],
   "source": [
    "attention_weights = attention_weights.transpose(1, 2).reshape(\n",
    "            batch_size * num_heads, 1, num_queries, num_levels * n_points\n",
    "        )\n",
    "attention_weights.shape"
   ]
  },
  {
   "cell_type": "code",
   "execution_count": 4,
   "id": "8d92ecbe",
   "metadata": {},
   "outputs": [],
   "source": [
    "sampling_value_list = [torch.randn(32, 32, 23890, 4), torch.randn(32, 32, 23890, 4), torch.randn(32, 32, 23890, 4), torch.randn(32, 32, 23890, 4)]"
   ]
  },
  {
   "cell_type": "code",
   "execution_count": 5,
   "id": "44723105",
   "metadata": {},
   "outputs": [
    {
     "name": "stdout",
     "output_type": "stream",
     "text": [
      "Stacked value matrix shape = torch.Size([32, 32, 23890, 4, 4])\n"
     ]
    }
   ],
   "source": [
    "final_key_matrix = torch.stack(sampling_value_list, dim=-2)\n",
    "print(f\"Stacked value matrix shape = {final_key_matrix.shape}\")"
   ]
  },
  {
   "cell_type": "code",
   "execution_count": 7,
   "id": "8ea07f88",
   "metadata": {},
   "outputs": [
    {
     "name": "stdout",
     "output_type": "stream",
     "text": [
      "Stacked value matrix flattened shape = torch.Size([32, 32, 23890, 16])\n"
     ]
    }
   ],
   "source": [
    "final_key_matrix = final_key_matrix.flatten(-2)\n",
    "print(f\"Stacked value matrix flattened shape = {final_key_matrix.shape}\")"
   ]
  },
  {
   "cell_type": "code",
   "execution_count": 9,
   "id": "2dc58097",
   "metadata": {},
   "outputs": [
    {
     "data": {
      "text/plain": [
       "torch.Size([32, 1, 23890, 16])"
      ]
     },
     "execution_count": 9,
     "metadata": {},
     "output_type": "execute_result"
    }
   ],
   "source": [
    "attention_weights = torch.randn(32, 1, 23890, 16)\n",
    "attention_weights.shape"
   ]
  },
  {
   "cell_type": "code",
   "execution_count": 10,
   "id": "dee924ad",
   "metadata": {},
   "outputs": [
    {
     "data": {
      "text/plain": [
       "torch.Size([32, 32, 23890, 16])"
      ]
     },
     "execution_count": 10,
     "metadata": {},
     "output_type": "execute_result"
    }
   ],
   "source": [
    "output = final_key_matrix*attention_weights\n",
    "output.shape"
   ]
  },
  {
   "cell_type": "code",
   "execution_count": 11,
   "id": "4955f2ef",
   "metadata": {},
   "outputs": [
    {
     "data": {
      "text/plain": [
       "torch.Size([32, 32, 23890])"
      ]
     },
     "execution_count": 11,
     "metadata": {},
     "output_type": "execute_result"
    }
   ],
   "source": [
    "output = output.sum(-1)\n",
    "output.shape"
   ]
  },
  {
   "cell_type": "code",
   "execution_count": 14,
   "id": "6ed7d2a8",
   "metadata": {},
   "outputs": [],
   "source": [
    "output = output.view(batch_size,num_heads*hidden_dim,num_queries).transpose(1,2)"
   ]
  },
  {
   "cell_type": "code",
   "execution_count": 15,
   "id": "464f0c80",
   "metadata": {},
   "outputs": [
    {
     "data": {
      "text/plain": [
       "torch.Size([4, 23890, 256])"
      ]
     },
     "execution_count": 15,
     "metadata": {},
     "output_type": "execute_result"
    }
   ],
   "source": [
    "output.shape"
   ]
  },
  {
   "cell_type": "code",
   "execution_count": null,
   "id": "5851db98",
   "metadata": {},
   "outputs": [],
   "source": []
  }
 ],
 "metadata": {
  "kernelspec": {
   "display_name": "Python 3",
   "language": "python",
   "name": "python3"
  },
  "language_info": {
   "codemirror_mode": {
    "name": "ipython",
    "version": 3
   },
   "file_extension": ".py",
   "mimetype": "text/x-python",
   "name": "python",
   "nbconvert_exporter": "python",
   "pygments_lexer": "ipython3",
   "version": "3.12.1"
  }
 },
 "nbformat": 4,
 "nbformat_minor": 5
}
